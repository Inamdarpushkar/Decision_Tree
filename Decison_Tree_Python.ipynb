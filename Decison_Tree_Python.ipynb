{
 "cells": [
  {
   "cell_type": "markdown",
   "metadata": {},
   "source": [
    "# Import Statements"
   ]
  },
  {
   "cell_type": "code",
   "execution_count": 157,
   "metadata": {
    "collapsed": true
   },
   "outputs": [],
   "source": [
    "import numpy as np\n",
    "import pandas as pd\n",
    "import matplotlib as plt\n",
    "import seaborn as sns\n",
    "%matplotlib inline\n",
    "\n",
    "import random\n",
    "from pprint import pprint "
   ]
  },
  {
   "cell_type": "markdown",
   "metadata": {},
   "source": [
    "# Load and Prepare Data"
   ]
  },
  {
   "cell_type": "markdown",
   "metadata": {},
   "source": [
    "### Format of the data\n",
    "\n",
    "1. last column of the data must contain the label and if must also be called \"label\"\n",
    "2. there shoud be no missing values in the data frame"
   ]
  },
  {
   "cell_type": "code",
   "execution_count": 158,
   "metadata": {
    "collapsed": true
   },
   "outputs": [],
   "source": [
    "df=pd.read_csv('Iris.csv')\n",
    "df=df.drop(\"Id\",axis=1)\n",
    "df=df.rename(columns={\"Species\": \"label\",\"PetalWidthCm\": \"petal_Width\",\"PetalLengthCm\": \"petal_length\",\n",
    "                      \"SepalWidthCm\":\"sepal_width\",\"SepalLengthCm\":\"sepal_length\"})"
   ]
  },
  {
   "cell_type": "markdown",
   "metadata": {},
   "source": [
    "# Train-Test_Split"
   ]
  },
  {
   "cell_type": "code",
   "execution_count": 159,
   "metadata": {},
   "outputs": [
    {
     "data": {
      "text/html": [
       "<div>\n",
       "<style scoped>\n",
       "    .dataframe tbody tr th:only-of-type {\n",
       "        vertical-align: middle;\n",
       "    }\n",
       "\n",
       "    .dataframe tbody tr th {\n",
       "        vertical-align: top;\n",
       "    }\n",
       "\n",
       "    .dataframe thead th {\n",
       "        text-align: right;\n",
       "    }\n",
       "</style>\n",
       "<table border=\"1\" class=\"dataframe\">\n",
       "  <thead>\n",
       "    <tr style=\"text-align: right;\">\n",
       "      <th></th>\n",
       "      <th>sepal_length</th>\n",
       "      <th>sepal_width</th>\n",
       "      <th>petal_length</th>\n",
       "      <th>petal_Width</th>\n",
       "      <th>label</th>\n",
       "    </tr>\n",
       "  </thead>\n",
       "  <tbody>\n",
       "    <tr>\n",
       "      <th>98</th>\n",
       "      <td>5.1</td>\n",
       "      <td>2.5</td>\n",
       "      <td>3.0</td>\n",
       "      <td>1.1</td>\n",
       "      <td>Iris-versicolor</td>\n",
       "    </tr>\n",
       "    <tr>\n",
       "      <th>107</th>\n",
       "      <td>7.3</td>\n",
       "      <td>2.9</td>\n",
       "      <td>6.3</td>\n",
       "      <td>1.8</td>\n",
       "      <td>Iris-virginica</td>\n",
       "    </tr>\n",
       "    <tr>\n",
       "      <th>10</th>\n",
       "      <td>5.4</td>\n",
       "      <td>3.7</td>\n",
       "      <td>1.5</td>\n",
       "      <td>0.2</td>\n",
       "      <td>Iris-setosa</td>\n",
       "    </tr>\n",
       "    <tr>\n",
       "      <th>66</th>\n",
       "      <td>5.6</td>\n",
       "      <td>3.0</td>\n",
       "      <td>4.5</td>\n",
       "      <td>1.5</td>\n",
       "      <td>Iris-versicolor</td>\n",
       "    </tr>\n",
       "    <tr>\n",
       "      <th>130</th>\n",
       "      <td>7.4</td>\n",
       "      <td>2.8</td>\n",
       "      <td>6.1</td>\n",
       "      <td>1.9</td>\n",
       "      <td>Iris-virginica</td>\n",
       "    </tr>\n",
       "  </tbody>\n",
       "</table>\n",
       "</div>"
      ],
      "text/plain": [
       "     sepal_length  sepal_width  petal_length  petal_Width            label\n",
       "98            5.1          2.5           3.0          1.1  Iris-versicolor\n",
       "107           7.3          2.9           6.3          1.8   Iris-virginica\n",
       "10            5.4          3.7           1.5          0.2      Iris-setosa\n",
       "66            5.6          3.0           4.5          1.5  Iris-versicolor\n",
       "130           7.4          2.8           6.1          1.9   Iris-virginica"
      ]
     },
     "execution_count": 159,
     "metadata": {},
     "output_type": "execute_result"
    }
   ],
   "source": [
    "def train_test_split(df,test_size):\n",
    "    if isinstance(test_size,float):\n",
    "        test_size=round(test_size*len(df))\n",
    "\n",
    "    indices=df.index.tolist()\n",
    "    test_indices=random.sample(population=indices,k=test_size)\n",
    "\n",
    "    test_df=df.loc[test_indices]\n",
    "    train_df=df.drop(test_indices)\n",
    "    return train_df, test_df\n",
    "random.seed(0)\n",
    "train_df,test_df=train_test_split(df,test_size=10)\n",
    "test_df.head()"
   ]
  },
  {
   "cell_type": "markdown",
   "metadata": {},
   "source": [
    "# Data Pure"
   ]
  },
  {
   "cell_type": "code",
   "execution_count": 160,
   "metadata": {
    "collapsed": true
   },
   "outputs": [],
   "source": [
    "data=train_df.values\n",
    "#converting data to numpy (faster than pandas)\n",
    "def check_purity(data):\n",
    "    label_column=data[:,-1]\n",
    "    unique_classes=np.unique(label_column)\n",
    "    if len(unique_classes)==1:\n",
    "        return True\n",
    "    else:\n",
    "        return False"
   ]
  },
  {
   "cell_type": "markdown",
   "metadata": {},
   "source": [
    "# Classify"
   ]
  },
  {
   "cell_type": "code",
   "execution_count": 161,
   "metadata": {},
   "outputs": [
    {
     "data": {
      "text/plain": [
       "'Iris-versicolor'"
      ]
     },
     "execution_count": 161,
     "metadata": {},
     "output_type": "execute_result"
    }
   ],
   "source": [
    "def classify_data(data):\n",
    "    label_column=data[:,-1]\n",
    "    unique_classes,counts_unique_classes=np.unique(label_column,return_counts=True)\n",
    "    index=counts_unique_classes.argmax()\n",
    "    classificaion=unique_classes[index]\n",
    "    return classificaion\n",
    "classify_data(train_df[train_df.petal_Width>0.8].values)"
   ]
  },
  {
   "cell_type": "markdown",
   "metadata": {},
   "source": [
    "# Potential splits"
   ]
  },
  {
   "cell_type": "code",
   "execution_count": 163,
   "metadata": {},
   "outputs": [
    {
     "data": {
      "text/html": [
       "<div>\n",
       "<style scoped>\n",
       "    .dataframe tbody tr th:only-of-type {\n",
       "        vertical-align: middle;\n",
       "    }\n",
       "\n",
       "    .dataframe tbody tr th {\n",
       "        vertical-align: top;\n",
       "    }\n",
       "\n",
       "    .dataframe thead th {\n",
       "        text-align: right;\n",
       "    }\n",
       "</style>\n",
       "<table border=\"1\" class=\"dataframe\">\n",
       "  <thead>\n",
       "    <tr style=\"text-align: right;\">\n",
       "      <th></th>\n",
       "      <th>sepal_length</th>\n",
       "      <th>sepal_width</th>\n",
       "      <th>petal_length</th>\n",
       "      <th>petal_Width</th>\n",
       "      <th>label</th>\n",
       "    </tr>\n",
       "  </thead>\n",
       "  <tbody>\n",
       "    <tr>\n",
       "      <th>0</th>\n",
       "      <td>5.1</td>\n",
       "      <td>3.5</td>\n",
       "      <td>1.4</td>\n",
       "      <td>0.2</td>\n",
       "      <td>Iris-setosa</td>\n",
       "    </tr>\n",
       "    <tr>\n",
       "      <th>1</th>\n",
       "      <td>4.9</td>\n",
       "      <td>3.0</td>\n",
       "      <td>1.4</td>\n",
       "      <td>0.2</td>\n",
       "      <td>Iris-setosa</td>\n",
       "    </tr>\n",
       "    <tr>\n",
       "      <th>2</th>\n",
       "      <td>4.7</td>\n",
       "      <td>3.2</td>\n",
       "      <td>1.3</td>\n",
       "      <td>0.2</td>\n",
       "      <td>Iris-setosa</td>\n",
       "    </tr>\n",
       "    <tr>\n",
       "      <th>3</th>\n",
       "      <td>4.6</td>\n",
       "      <td>3.1</td>\n",
       "      <td>1.5</td>\n",
       "      <td>0.2</td>\n",
       "      <td>Iris-setosa</td>\n",
       "    </tr>\n",
       "    <tr>\n",
       "      <th>4</th>\n",
       "      <td>5.0</td>\n",
       "      <td>3.6</td>\n",
       "      <td>1.4</td>\n",
       "      <td>0.2</td>\n",
       "      <td>Iris-setosa</td>\n",
       "    </tr>\n",
       "  </tbody>\n",
       "</table>\n",
       "</div>"
      ],
      "text/plain": [
       "   sepal_length  sepal_width  petal_length  petal_Width        label\n",
       "0           5.1          3.5           1.4          0.2  Iris-setosa\n",
       "1           4.9          3.0           1.4          0.2  Iris-setosa\n",
       "2           4.7          3.2           1.3          0.2  Iris-setosa\n",
       "3           4.6          3.1           1.5          0.2  Iris-setosa\n",
       "4           5.0          3.6           1.4          0.2  Iris-setosa"
      ]
     },
     "execution_count": 163,
     "metadata": {},
     "output_type": "execute_result"
    }
   ],
   "source": [
    "train_df.head()"
   ]
  },
  {
   "cell_type": "code",
   "execution_count": 171,
   "metadata": {
    "collapsed": true
   },
   "outputs": [],
   "source": [
    "\n",
    "def get_potential_splits(data):\n",
    "    potential_splits={}\n",
    "    _,n_columns=data.shape\n",
    "    for column_index in range(n_columns-1):\n",
    "        potential_splits[column_index]=[]\n",
    "        values=data[:,column_index]\n",
    "        unique_values=np.unique(values)\n",
    "\n",
    "        for index in range(len(unique_values)):\n",
    "            if index!=0:\n",
    "                current_value=unique_values[index]\n",
    "                previous_value=unique_values[index-1]\n",
    "                potential_split=(current_value+previous_value)/2\n",
    "                potential_splits[column_index].append(potential_split)\n",
    "\n",
    "    return potential_splits\n",
    "\n",
    "potential_splits=get_potential_splits(train_df.values)\n",
    "    "
   ]
  },
  {
   "cell_type": "code",
   "execution_count": 179,
   "metadata": {},
   "outputs": [
    {
     "data": {
      "text/plain": [
       "<matplotlib.collections.LineCollection at 0x1219da400>"
      ]
     },
     "execution_count": 179,
     "metadata": {},
     "output_type": "execute_result"
    },
    {
     "data": {
      "image/png": "[encoded data removed]",
      "text/plain": [
       "<Figure size 743.875x432 with 1 Axes>"
      ]
     },
     "metadata": {},
     "output_type": "display_data"
    }
   ],
   "source": [
    "sns.lmplot(data=train_df,x='petal_Width',y='petal_length',hue='label',fit_reg=False,size=6,aspect=1.5)\n",
    "\n",
    "plt.pyplot.vlines(x=potential_splits[3],ymin=1,ymax=7)\n",
    "plt.pyplot.hlines(y=potential_splits[2],xmin=0,xmax=3)"
   ]
  },
  {
   "cell_type": "markdown",
   "metadata": {},
   "source": [
    "# Split data"
   ]
  },
  {
   "cell_type": "code",
   "execution_count": 244,
   "metadata": {
    "collapsed": true
   },
   "outputs": [],
   "source": [
    "#split_column=3\n",
    "#split_value=1.05\n",
    "\n",
    "def split_data(data,split_column,split_value):\n",
    "    split_column_values=data[:,split_column]\n",
    "    \n",
    "    data_below=data[split_column_values<=split_value]\n",
    "    data_above=data[split_column_values>split_value]\n",
    "    \n",
    "    return data_below,data_above\n"
   ]
  },
  {
   "cell_type": "code",
   "execution_count": 245,
   "metadata": {
    "collapsed": true
   },
   "outputs": [],
   "source": [
    "data_below,data_above=split_data(data,split_column,split_value)"
   ]
  },
  {
   "cell_type": "code",
   "execution_count": 246,
   "metadata": {},
   "outputs": [
    {
     "data": {
      "text/plain": [
       "(0, 2.6)"
      ]
     },
     "execution_count": 246,
     "metadata": {},
     "output_type": "execute_result"
    },
    {
     "data": {
      "image/png": "[encoded data removed]",
      "text/plain": [
       "<Figure size 648x432 with 1 Axes>"
      ]
     },
     "metadata": {},
     "output_type": "display_data"
    }
   ],
   "source": [
    "plotting_df=pd.DataFrame(data_below,columns=df.columns)\n",
    "sns.lmplot(data=plotting_df,x=\"petal_Width\",y=\"petal_length\",fit_reg=False,size=6,aspect=1.5)\n",
    "plt.pyplot.vlines(split_value,ymin=1,ymax=7)\n",
    "plt.pyplot.xlim(0,2.6)"
   ]
  },
  {
   "cell_type": "markdown",
   "metadata": {},
   "source": [
    "# Lowest overall Entropy"
   ]
  },
  {
   "cell_type": "code",
   "execution_count": 247,
   "metadata": {
    "collapsed": true
   },
   "outputs": [],
   "source": [
    "def calculate_entropy(data):\n",
    "    label_column=data[:,-1]\n",
    "    _,counts=np.unique(label_column,return_counts=True)\n",
    "\n",
    "    probabilities=counts/counts.sum()\n",
    "    entropy=sum(probabilities* -np.log2(probabilities))\n",
    "    \n",
    "    return entropy"
   ]
  },
  {
   "cell_type": "code",
   "execution_count": 248,
   "metadata": {
    "collapsed": true
   },
   "outputs": [],
   "source": [
    "def calculate_overall_entropy(data_below,data_above):\n",
    "    n_data_points=len(data_below)+len(data_above)\n",
    "    \n",
    "    p_data_below=len(data_below)/n_data_points\n",
    "    p_data_above=len(data_above)/n_data_points\n",
    "    \n",
    "    overall_entropy=(p_data_below*calculate_entropy(data_below)+\n",
    "                    p_data_above*calculate_entropy(data_above))\n",
    "    return overall_entropy\n",
    "    "
   ]
  },
  {
   "cell_type": "code",
   "execution_count": 249,
   "metadata": {},
   "outputs": [
    {
     "data": {
      "text/plain": [
       "0.8152156890152158"
      ]
     },
     "execution_count": 249,
     "metadata": {},
     "output_type": "execute_result"
    }
   ],
   "source": [
    "calculate_overall_entropy(data_below,data_above)"
   ]
  },
  {
   "cell_type": "code",
   "execution_count": 250,
   "metadata": {
    "collapsed": true
   },
   "outputs": [],
   "source": [
    "def determine_best_split(data,potential_splits):\n",
    "    overall_entropy=999\n",
    "    for column_index in potential_splits:\n",
    "        for value in potential_splits[column_index]:\n",
    "            data_below,data_above=split_data(data,split_column=column_index,split_value=value)\n",
    "            current_overall_entropy=calculate_overall_entropy(data_below,data_above)\n",
    "            \n",
    "            if current_overall_entropy<=overall_entropy:\n",
    "                overall_entropy=current_overall_entropy\n",
    "                best_split_column=column_index\n",
    "                best_split_value=value  \n",
    "            \n",
    "    return best_split_column,best_split_value"
   ]
  },
  {
   "cell_type": "code",
   "execution_count": 251,
   "metadata": {},
   "outputs": [
    {
     "data": {
      "text/plain": [
       "(3, 0.8)"
      ]
     },
     "execution_count": 251,
     "metadata": {},
     "output_type": "execute_result"
    }
   ],
   "source": [
    "potential_splits=get_potential_splits(data)\n",
    "determine_best_split(data,potential_splits)"
   ]
  },
  {
   "cell_type": "markdown",
   "metadata": {},
   "source": [
    "# Decison Tree Algorithm"
   ]
  },
  {
   "cell_type": "markdown",
   "metadata": {},
   "source": [
    "### Representation of the Decision tree"
   ]
  },
  {
   "cell_type": "code",
   "execution_count": 353,
   "metadata": {
    "collapsed": true
   },
   "outputs": [],
   "source": [
    "#sub_tree={question:[yes_ans,no_ans]}\n",
    "example_tree={\"petal_width<=0.8\":[\"Iris-setosa\",\n",
    "                                  {\"petal_width<=1.65\":[{\"petal_legth<=4.9\":\n",
    "                                                         [\"Iris_versicolor\",\n",
    "                                                          \"Iris_virginica\"]},\n",
    "                                                        \"Iris_virginica\"]}]}"
   ]
  },
  {
   "cell_type": "code",
   "execution_count": 370,
   "metadata": {
    "collapsed": true
   },
   "outputs": [],
   "source": [
    "def decision_tree_algorithm(df,counter=0):\n",
    "    #data preparation\n",
    "    if counter==0:\n",
    "        data=df.values\n",
    "    else:\n",
    "        data=df\n",
    "        \n",
    "    # base case\n",
    "    if check_purity(data):\n",
    "        classification=classify_data(data)\n",
    "        return classification\n",
    "    #recursive part\n",
    "    else:\n",
    "        counter +=1\n",
    "        #helper functions\n",
    "        potential_splits=get_potential_splits(data)\n",
    "        split_column,split_value=determine_best_split(data,potential_splits)\n",
    "\n",
    "        data_below,data_above=split_data(data,split_column,split_value)\n",
    "        #instantiate sub tree\n",
    "        question=\"{}<={}\".format(split_column,split_value)\n",
    "        sub_tree={question:[]}\n",
    "        \n",
    "        #find ans(recursion)\n",
    "        yes_answer=decision_tree_algorithm(data_below,counter)\n",
    "        no_answer=decision_tree_algorithm(data_above,counter)\n",
    "        \n",
    "        sub_tree[question].append(yes_answer)\n",
    "        sub_tree[question].append(no_answer)\n",
    "        \n",
    "        return sub_tree\n",
    "        "
   ]
  },
  {
   "cell_type": "code",
   "execution_count": 371,
   "metadata": {},
   "outputs": [],
   "source": [
    "tree=decision_tree_algorithm(train_df[train_df.label!='iris-virginica'])"
   ]
  },
  {
   "cell_type": "code",
   "execution_count": 375,
   "metadata": {},
   "outputs": [
    {
     "name": "stdout",
     "output_type": "stream",
     "text": [
      "{'3<=0.8': ['Iris-setosa',\n",
      "            {'3<=1.65': [{'2<=4.95': ['Iris-versicolor',\n",
      "                                      {'3<=1.55': ['Iris-virginica',\n",
      "                                                   {'2<=5.449999999999999': ['Iris-versicolor',\n",
      "                                                                             'Iris-virginica']}]}]},\n",
      "                         {'2<=4.85': [{'1<=3.1': ['Iris-virginica',\n",
      "                                                  'Iris-versicolor']},\n",
      "                                      'Iris-virginica']}]}]}\n"
     ]
    }
   ],
   "source": [
    "pprint(tree)"
   ]
  },
  {
   "cell_type": "code",
   "execution_count": 374,
   "metadata": {},
   "outputs": [
    {
     "data": {
      "text/plain": [
       "array(['Iris-setosa', 'Iris-versicolor', 'Iris-virginica'], dtype=object)"
      ]
     },
     "execution_count": 374,
     "metadata": {},
     "output_type": "execute_result"
    }
   ],
   "source": [
    "np.unique(df.label)"
   ]
  },
  {
   "cell_type": "code",
   "execution_count": null,
   "metadata": {
    "collapsed": true
   },
   "outputs": [],
   "source": []
  }
 ],
 "metadata": {
  "kernelspec": {
   "display_name": "Python [conda env:anaconda]",
   "language": "python",
   "name": "conda-env-anaconda-py"
  },
  "language_info": {
   "codemirror_mode": {
    "name": "ipython",
    "version": 3
   },
   "file_extension": ".py",
   "mimetype": "text/x-python",
   "name": "python",
   "nbconvert_exporter": "python",
   "pygments_lexer": "ipython3",
   "version": "3.6.5"
  }
 },
 "nbformat": 4,
 "nbformat_minor": 2
}
